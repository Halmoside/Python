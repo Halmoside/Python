{
 "cells": [
  {
   "cell_type": "code",
   "execution_count": 3,
   "id": "bb649523-998a-406d-88be-1e6dca0927bb",
   "metadata": {},
   "outputs": [],
   "source": [
    "#syntax for adding an element to a list in Python\n",
    "l = [2,3,4,5,6,34.45, \"coder\", True]"
   ]
  },
  {
   "cell_type": "code",
   "execution_count": 4,
   "id": "4993a825-1991-4ea4-8969-a030a1196568",
   "metadata": {},
   "outputs": [
    {
     "data": {
      "text/plain": [
       "[2, 3, 4, 5, 6, 34.45, 'coder', True]"
      ]
     },
     "execution_count": 4,
     "metadata": {},
     "output_type": "execute_result"
    }
   ],
   "source": [
    "l"
   ]
  },
  {
   "cell_type": "code",
   "execution_count": 5,
   "id": "fba9ba3b-b5a8-405b-80f1-de47ec18f113",
   "metadata": {},
   "outputs": [],
   "source": [
    "l.append(\"haseeb\")"
   ]
  },
  {
   "cell_type": "code",
   "execution_count": 6,
   "id": "f44522de-899c-4db8-b757-274306b81540",
   "metadata": {},
   "outputs": [
    {
     "data": {
      "text/plain": [
       "[2, 3, 4, 5, 6, 34.45, 'coder', True, 'haseeb']"
      ]
     },
     "execution_count": 6,
     "metadata": {},
     "output_type": "execute_result"
    }
   ],
   "source": [
    "l"
   ]
  },
  {
   "cell_type": "code",
   "execution_count": 7,
   "id": "80c040d1-0574-45af-9311-0bd84ba2b5b3",
   "metadata": {},
   "outputs": [],
   "source": [
    "#The difference between remove() and pop() functions in Python\n",
    "\n",
    "#The pop() function removes the last element or the element based on the index given. remove() function removes the first\n",
    "#occurrence of the specified element.\n",
    "\n",
    "l2 = [2,4,6,3,5,8,9,10,23,45,32,46,43,0,9,90,15]"
   ]
  },
  {
   "cell_type": "code",
   "execution_count": 13,
   "id": "8ddf94e4-65ad-47bd-b431-54bb67bfd1c4",
   "metadata": {},
   "outputs": [
    {
     "data": {
      "text/plain": [
       "[2, 4, 6, 3, 5, 8, 9, 10, 23, 45, 32, 46, 43, 0, 9]"
      ]
     },
     "execution_count": 13,
     "metadata": {},
     "output_type": "execute_result"
    }
   ],
   "source": [
    "l2"
   ]
  },
  {
   "cell_type": "code",
   "execution_count": 14,
   "id": "56d0e1c6-e185-4e20-9231-1ad7197d03b3",
   "metadata": {},
   "outputs": [],
   "source": [
    "l2.sort()"
   ]
  },
  {
   "cell_type": "code",
   "execution_count": 15,
   "id": "f87b851e-0a31-4f64-8402-35af01e62bf1",
   "metadata": {},
   "outputs": [
    {
     "data": {
      "text/plain": [
       "[0, 2, 3, 4, 5, 6, 8, 9, 9, 10, 23, 32, 43, 45, 46]"
      ]
     },
     "execution_count": 15,
     "metadata": {},
     "output_type": "execute_result"
    }
   ],
   "source": [
    "l2"
   ]
  },
  {
   "cell_type": "code",
   "execution_count": 16,
   "id": "e171e7d6-20b5-4db3-8eab-fedfe29adfb5",
   "metadata": {},
   "outputs": [
    {
     "data": {
      "text/plain": [
       "46"
      ]
     },
     "execution_count": 16,
     "metadata": {},
     "output_type": "execute_result"
    }
   ],
   "source": [
    "l2.pop()"
   ]
  },
  {
   "cell_type": "code",
   "execution_count": 17,
   "id": "4c44cd52-4e5d-4381-8cf4-69d421a0d6c3",
   "metadata": {},
   "outputs": [
    {
     "data": {
      "text/plain": [
       "[0, 2, 3, 4, 5, 6, 8, 9, 9, 10, 23, 32, 43, 45]"
      ]
     },
     "execution_count": 17,
     "metadata": {},
     "output_type": "execute_result"
    }
   ],
   "source": [
    "l2"
   ]
  },
  {
   "cell_type": "code",
   "execution_count": 19,
   "id": "0137d606-f847-4d70-a513-6af40ff932b5",
   "metadata": {},
   "outputs": [],
   "source": [
    "l2.remove(9)"
   ]
  },
  {
   "cell_type": "code",
   "execution_count": 20,
   "id": "77cc9268-1f6b-4b5e-bfd0-568e76c47997",
   "metadata": {},
   "outputs": [
    {
     "data": {
      "text/plain": [
       "[0, 2, 3, 4, 5, 6, 8, 9, 10, 23, 32, 43, 45]"
      ]
     },
     "execution_count": 20,
     "metadata": {},
     "output_type": "execute_result"
    }
   ],
   "source": [
    "l2"
   ]
  },
  {
   "cell_type": "code",
   "execution_count": 21,
   "id": "8769d968-6f34-4b4b-9558-e270f764233e",
   "metadata": {},
   "outputs": [
    {
     "data": {
      "text/plain": [
       "[0, 2, 3, 4, 5, 6, 8, 9, 10, 23, 32, 43, 45]"
      ]
     },
     "execution_count": 21,
     "metadata": {},
     "output_type": "execute_result"
    }
   ],
   "source": [
    "l2"
   ]
  },
  {
   "cell_type": "code",
   "execution_count": 24,
   "id": "319cf629-e1c8-46ea-8063-12c6cd67b53c",
   "metadata": {},
   "outputs": [],
   "source": [
    "#Python code to sort a list in descending order.\n",
    "l2.sort(reverse = True)"
   ]
  },
  {
   "cell_type": "code",
   "execution_count": 25,
   "id": "81d9aa7e-2f81-43ce-8005-7285b8cfd02d",
   "metadata": {},
   "outputs": [
    {
     "data": {
      "text/plain": [
       "[45, 43, 32, 23, 10, 9, 8, 6, 5, 4, 3, 2, 0]"
      ]
     },
     "execution_count": 25,
     "metadata": {},
     "output_type": "execute_result"
    }
   ],
   "source": [
    "l2"
   ]
  },
  {
   "cell_type": "code",
   "execution_count": 1,
   "id": "27d65bb5-4412-4b7a-84e8-587499907a38",
   "metadata": {},
   "outputs": [],
   "source": [
    "#Python code to count the number of occurrences of an element in a list.\n",
    "l3 = [2,3,4,5,6,7,8,9,2,3,4,5,6,7,2,2,2,3,3,5,5,6,6,7]"
   ]
  },
  {
   "cell_type": "code",
   "execution_count": 2,
   "id": "29fc77e3-7da8-46c6-8973-ea275b64306b",
   "metadata": {},
   "outputs": [
    {
     "data": {
      "text/plain": [
       "[2, 3, 4, 5, 6, 7, 8, 9, 2, 3, 4, 5, 6, 7, 2, 2, 2, 3, 3, 5, 5, 6, 6, 7]"
      ]
     },
     "execution_count": 2,
     "metadata": {},
     "output_type": "execute_result"
    }
   ],
   "source": [
    "l3"
   ]
  },
  {
   "cell_type": "code",
   "execution_count": 3,
   "id": "722afafa-ad72-4ac8-8e69-e6f813963d00",
   "metadata": {},
   "outputs": [
    {
     "data": {
      "text/plain": [
       "5"
      ]
     },
     "execution_count": 3,
     "metadata": {},
     "output_type": "execute_result"
    }
   ],
   "source": [
    "l3.count(2)"
   ]
  },
  {
   "cell_type": "code",
   "execution_count": null,
   "id": "4cfbde1c-240d-45c5-be9e-a858b2ff4ba4",
   "metadata": {},
   "outputs": [],
   "source": [
    "#Python code to reverse a list."
   ]
  }
 ],
 "metadata": {
  "kernelspec": {
   "display_name": "Python 3 (ipykernel)",
   "language": "python",
   "name": "python3"
  },
  "language_info": {
   "codemirror_mode": {
    "name": "ipython",
    "version": 3
   },
   "file_extension": ".py",
   "mimetype": "text/x-python",
   "name": "python",
   "nbconvert_exporter": "python",
   "pygments_lexer": "ipython3",
   "version": "3.10.6"
  }
 },
 "nbformat": 4,
 "nbformat_minor": 5
}
