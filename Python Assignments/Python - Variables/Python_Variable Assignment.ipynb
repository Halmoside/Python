{
 "cells": [
  {
   "cell_type": "code",
   "execution_count": null,
   "id": "12a566c2-c34f-464e-a02c-62069a8ffb39",
   "metadata": {},
   "outputs": [],
   "source": [
    "# Conventions for declearing a variable in python are : \n",
    "\n",
    "# A variable name must start with a letter or the underscore character\n",
    "# A variable name cannot start with a number\n",
    "# A variable name can only contain alpha-numeric characters and underscores (A-z, 0-9, and _ )\n",
    "# Variable names are case-sensitive (age, Age and AGE are three different variables)\n",
    "\n",
    "#Legal variable names:\n",
    "# myvar = \"haseeb\"\n",
    "# my_var = \"haseeb\"\n",
    "# _my_var = \"coder\"\n",
    "# myVar = \"python\"\n",
    "# MYVAR = \"data\"\n",
    "# myvar2 = \"scientist\""
   ]
  },
  {
   "cell_type": "code",
   "execution_count": 1,
   "id": "4c3e7e4d-10a4-49fe-87dd-207c1c4d9a0d",
   "metadata": {},
   "outputs": [],
   "source": [
    "# Python will raise an error if you try to assign a value to any of these keywords and so you must avoid these as variable ."
   ]
  },
  {
   "cell_type": "code",
   "execution_count": 2,
   "id": "f6856ab9-a01d-49b9-b206-92657320315b",
   "metadata": {},
   "outputs": [],
   "source": [
    "# Strings are data, so we can use them to fill up a variable. Declaring strings as variables can make it easier for us to work \n",
    "# with strings throughout our Python programs."
   ]
  },
  {
   "cell_type": "code",
   "execution_count": 3,
   "id": "0dc0fb93-cc62-4438-85a9-cec0dad37b3d",
   "metadata": {},
   "outputs": [
    {
     "name": "stdout",
     "output_type": "stream",
     "text": [
      "10\n"
     ]
    }
   ],
   "source": [
    "# yes \"_\" can be decleared as a variable name \n",
    "\n",
    "# Example \n",
    "_ = 10\n",
    "print(_)"
   ]
  },
  {
   "cell_type": "code",
   "execution_count": 5,
   "id": "00e6dfee-366c-411f-8ec9-c12143fa72b1",
   "metadata": {},
   "outputs": [
    {
     "name": "stdout",
     "output_type": "stream",
     "text": [
      "<class 'int'>\n",
      "<class 'str'>\n"
     ]
    }
   ],
   "source": [
    "# Python is a dynamically typed language.We don't have to declare the type of a variable or manage the memory while assigning \n",
    "# a value to a variable in Python. Other languages like C, C++, Java, etc.., there is a strict declaration of variables before \n",
    "# assigning values to them. We have to declare the kind of variable before assigning a value to it in the languages C, C++, \n",
    "# Java, etc..,\n",
    "# Python don't have any problem even if we don't declare the type of variable. It states the kind of variable in the runtime of\n",
    "# the program. Python also take cares of the memory management which is crucial in programming. So, Python is a dynamically \n",
    "# typed language.\n",
    "\n",
    "# For Example\n",
    "\n",
    "x = 10\n",
    "print(type(x))\n",
    "\n",
    "y = 'True'\n",
    "print(type(y))"
   ]
  },
  {
   "cell_type": "code",
   "execution_count": null,
   "id": "597fee35-d37c-467b-b9ce-3b9d96728620",
   "metadata": {},
   "outputs": [],
   "source": []
  }
 ],
 "metadata": {
  "kernelspec": {
   "display_name": "Python 3 (ipykernel)",
   "language": "python",
   "name": "python3"
  },
  "language_info": {
   "codemirror_mode": {
    "name": "ipython",
    "version": 3
   },
   "file_extension": ".py",
   "mimetype": "text/x-python",
   "name": "python",
   "nbconvert_exporter": "python",
   "pygments_lexer": "ipython3",
   "version": "3.10.6"
  }
 },
 "nbformat": 4,
 "nbformat_minor": 5
}
