{
 "cells": [
  {
   "cell_type": "code",
   "execution_count": 1,
   "id": "aca0a05a-bd53-4554-b0a2-249f401c19df",
   "metadata": {},
   "outputs": [],
   "source": [
    "#An empty list.\n",
    "l = []"
   ]
  },
  {
   "cell_type": "code",
   "execution_count": 2,
   "id": "427eccd7-391f-4c5e-af9c-c0202e08ffb6",
   "metadata": {},
   "outputs": [
    {
     "data": {
      "text/plain": [
       "[]"
      ]
     },
     "execution_count": 2,
     "metadata": {},
     "output_type": "execute_result"
    }
   ],
   "source": [
    "l"
   ]
  },
  {
   "cell_type": "code",
   "execution_count": 3,
   "id": "57c4a6c9-cb8c-4ad2-ba01-2831a5529765",
   "metadata": {},
   "outputs": [],
   "source": [
    "#Create a list and add an element to the end of this list.\n",
    "l = [2,3,4,5,6,34.45, \"haseeb\", True]"
   ]
  },
  {
   "cell_type": "code",
   "execution_count": 4,
   "id": "c04aeb83-261b-43b6-bb34-faee24d2fa2f",
   "metadata": {},
   "outputs": [
    {
     "data": {
      "text/plain": [
       "[2, 3, 4, 5, 6, 34.45, 'haseeb', True]"
      ]
     },
     "execution_count": 4,
     "metadata": {},
     "output_type": "execute_result"
    }
   ],
   "source": [
    "l"
   ]
  },
  {
   "cell_type": "code",
   "execution_count": 5,
   "id": "c34595c0-bf71-4b3d-b1cb-6a84aacee900",
   "metadata": {},
   "outputs": [],
   "source": [
    "l.append(\"pwskills\")"
   ]
  },
  {
   "cell_type": "code",
   "execution_count": 6,
   "id": "c92bfe7f-3b97-4d58-9a5a-52f4385ec13d",
   "metadata": {},
   "outputs": [
    {
     "data": {
      "text/plain": [
       "[2, 3, 4, 5, 6, 34.45, 'haseeb', True, 'pwskills']"
      ]
     },
     "execution_count": 6,
     "metadata": {},
     "output_type": "execute_result"
    }
   ],
   "source": [
    "l"
   ]
  },
  {
   "cell_type": "code",
   "execution_count": 7,
   "id": "80ddda3d-642e-4ed4-ba78-37ea67aaedcd",
   "metadata": {},
   "outputs": [
    {
     "data": {
      "text/plain": [
       "'pwskills'"
      ]
     },
     "execution_count": 7,
     "metadata": {},
     "output_type": "execute_result"
    }
   ],
   "source": [
    "#For the above created list print the last element.\n",
    "l[-1]"
   ]
  },
  {
   "cell_type": "code",
   "execution_count": 8,
   "id": "9eaf34b4-63d4-4bec-8280-29d7deeb1d87",
   "metadata": {},
   "outputs": [
    {
     "data": {
      "text/plain": [
       "['pwskills', True, 'haseeb', 34.45, 6, 5, 4, 3, 2]"
      ]
     },
     "execution_count": 8,
     "metadata": {},
     "output_type": "execute_result"
    }
   ],
   "source": [
    "#Q4. Reverse the above created list.\n",
    "l[::-1]"
   ]
  },
  {
   "cell_type": "code",
   "execution_count": 11,
   "id": "bca3d342-1842-4fcb-981a-12d85c157db2",
   "metadata": {},
   "outputs": [],
   "source": [
    "l2 = [2,4,6,3,5,8,9,10,23,45,32,46,43,0,9,90,15]"
   ]
  },
  {
   "cell_type": "code",
   "execution_count": 12,
   "id": "9b78030b-b716-4362-acaa-27f1d527ab9c",
   "metadata": {},
   "outputs": [
    {
     "data": {
      "text/plain": [
       "[2, 4, 6, 3, 5, 8, 9, 10, 23, 45, 32, 46, 43, 0, 9, 90, 15]"
      ]
     },
     "execution_count": 12,
     "metadata": {},
     "output_type": "execute_result"
    }
   ],
   "source": [
    "l2"
   ]
  },
  {
   "cell_type": "code",
   "execution_count": 13,
   "id": "2f632d92-3920-446a-b533-8d0210732786",
   "metadata": {},
   "outputs": [],
   "source": [
    "l2.sort()"
   ]
  },
  {
   "cell_type": "code",
   "execution_count": 19,
   "id": "3799a5b1-0671-48a5-b6cc-307468db720e",
   "metadata": {},
   "outputs": [
    {
     "data": {
      "text/plain": [
       "[0, 2, 3, 4, 5, 6, 8, 9, 9, 10, 15, 23, 32, 43, 45, 46, 90]"
      ]
     },
     "execution_count": 19,
     "metadata": {},
     "output_type": "execute_result"
    }
   ],
   "source": [
    "l2"
   ]
  },
  {
   "cell_type": "code",
   "execution_count": 22,
   "id": "cc35844c-e47a-4bfd-a666-84b2e200619d",
   "metadata": {},
   "outputs": [],
   "source": [
    "movie = [\"genius\", \"avengers endgame\", \"karvaan\"]"
   ]
  },
  {
   "cell_type": "code",
   "execution_count": 23,
   "id": "6021ef61-f6da-480b-a53f-5f36b202410d",
   "metadata": {},
   "outputs": [
    {
     "data": {
      "text/plain": [
       "['genius', 'avengers endgame', 'karvaan']"
      ]
     },
     "execution_count": 23,
     "metadata": {},
     "output_type": "execute_result"
    }
   ],
   "source": [
    "movie"
   ]
  },
  {
   "cell_type": "code",
   "execution_count": 24,
   "id": "9d15595c-db74-475d-9d40-9d4305c7fe68",
   "metadata": {},
   "outputs": [
    {
     "data": {
      "text/plain": [
       "'avengers endgame'"
      ]
     },
     "execution_count": 24,
     "metadata": {},
     "output_type": "execute_result"
    }
   ],
   "source": [
    "movie[1]"
   ]
  },
  {
   "cell_type": "code",
   "execution_count": 25,
   "id": "533c1650-7ad2-4f75-87c6-ab88e6a3ef26",
   "metadata": {},
   "outputs": [],
   "source": [
    "animals = [\"lion\", \"tiger\", \"cheetah\", \"elephant\"]"
   ]
  },
  {
   "cell_type": "code",
   "execution_count": 26,
   "id": "ab53dc5e-c2d5-4ccb-80e1-44a960e331b1",
   "metadata": {},
   "outputs": [
    {
     "data": {
      "text/plain": [
       "['lion', 'tiger', 'cheetah', 'elephant']"
      ]
     },
     "execution_count": 26,
     "metadata": {},
     "output_type": "execute_result"
    }
   ],
   "source": [
    "animals"
   ]
  },
  {
   "cell_type": "code",
   "execution_count": 27,
   "id": "83776a93-6b75-469e-b8d7-3d2943b11b63",
   "metadata": {},
   "outputs": [],
   "source": [
    "animals.append(\"dear\")"
   ]
  },
  {
   "cell_type": "code",
   "execution_count": 28,
   "id": "5a2860df-9e4a-4542-a072-a0c94c18fe71",
   "metadata": {},
   "outputs": [
    {
     "data": {
      "text/plain": [
       "['lion', 'tiger', 'cheetah', 'elephant', 'dear']"
      ]
     },
     "execution_count": 28,
     "metadata": {},
     "output_type": "execute_result"
    }
   ],
   "source": [
    "animals"
   ]
  },
  {
   "cell_type": "code",
   "execution_count": 29,
   "id": "a3ab4819-d3ad-4813-a99b-ab96decda755",
   "metadata": {},
   "outputs": [],
   "source": [
    "cities = [\"mumbai\", \"chennai\", \"new delhi\", \"kolkata\"]"
   ]
  },
  {
   "cell_type": "code",
   "execution_count": 30,
   "id": "2bc25f79-9e3c-4ce9-97a0-5a5ed500d76d",
   "metadata": {},
   "outputs": [
    {
     "data": {
      "text/plain": [
       "['mumbai', 'chennai', 'new delhi', 'kolkata']"
      ]
     },
     "execution_count": 30,
     "metadata": {},
     "output_type": "execute_result"
    }
   ],
   "source": [
    "cities"
   ]
  },
  {
   "cell_type": "code",
   "execution_count": 31,
   "id": "4f40a185-18b7-437b-8c1f-72b25237b4cd",
   "metadata": {},
   "outputs": [
    {
     "data": {
      "text/plain": [
       "2"
      ]
     },
     "execution_count": 31,
     "metadata": {},
     "output_type": "execute_result"
    }
   ],
   "source": [
    "cities.index(\"new delhi\")"
   ]
  },
  {
   "cell_type": "code",
   "execution_count": null,
   "id": "76c065fc-4d9a-4bf7-aa6b-e339900eaaf3",
   "metadata": {},
   "outputs": [],
   "source": []
  }
 ],
 "metadata": {
  "kernelspec": {
   "display_name": "Python 3 (ipykernel)",
   "language": "python",
   "name": "python3"
  },
  "language_info": {
   "codemirror_mode": {
    "name": "ipython",
    "version": 3
   },
   "file_extension": ".py",
   "mimetype": "text/x-python",
   "name": "python",
   "nbconvert_exporter": "python",
   "pygments_lexer": "ipython3",
   "version": "3.10.6"
  }
 },
 "nbformat": 4,
 "nbformat_minor": 5
}
