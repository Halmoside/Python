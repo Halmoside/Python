{
 "cells": [
  {
   "cell_type": "code",
   "execution_count": 1,
   "id": "707dfaa0-e926-432b-b0e0-fec3dcdfebbb",
   "metadata": {},
   "outputs": [
    {
     "data": {
      "text/plain": [
       "'Sets are used to store multiple items in a single variable. Set is one of 4 built-in data types in Python used to store \\ncollections of data, the other 3 are List, Tuple, and Dictionary, all with different qualities and usage. \\nA set is a collection which is unordered, unchangeable*, and unindexed.'"
      ]
     },
     "execution_count": 1,
     "metadata": {},
     "output_type": "execute_result"
    }
   ],
   "source": [
    "#What is a set in Python \n",
    "'''Sets are used to store multiple items in a single variable. Set is one of 4 built-in data types in Python used to store \n",
    "collections of data, the other 3 are List, Tuple, and Dictionary, all with different qualities and usage. \n",
    "A set is a collection which is unordered, unchangeable*, and unindexed.'''"
   ]
  },
  {
   "cell_type": "code",
   "execution_count": 2,
   "id": "fb8686aa-bf03-45ce-ae77-b23bcea2e0c5",
   "metadata": {},
   "outputs": [],
   "source": [
    "#How do you create a set in Python\n",
    "s = {1,2,3,4,5}"
   ]
  },
  {
   "cell_type": "code",
   "execution_count": 3,
   "id": "1b446f04-4659-49bb-9bb9-13144ce2b0fd",
   "metadata": {},
   "outputs": [
    {
     "data": {
      "text/plain": [
       "{1, 2, 3, 4, 5}"
      ]
     },
     "execution_count": 3,
     "metadata": {},
     "output_type": "execute_result"
    }
   ],
   "source": [
    "s"
   ]
  },
  {
   "cell_type": "code",
   "execution_count": 4,
   "id": "16de2600-19ea-4558-b295-dc7a1474af34",
   "metadata": {},
   "outputs": [],
   "source": [
    "#How do you add elements to a set in Python\n",
    "s2 = {1,2,3,4,5,6}"
   ]
  },
  {
   "cell_type": "code",
   "execution_count": 6,
   "id": "578c6276-cc10-4409-87ea-dc910474c99c",
   "metadata": {},
   "outputs": [
    {
     "data": {
      "text/plain": [
       "{1, 2, 3, 4, 5, 6}"
      ]
     },
     "execution_count": 6,
     "metadata": {},
     "output_type": "execute_result"
    }
   ],
   "source": [
    "s2"
   ]
  },
  {
   "cell_type": "code",
   "execution_count": 7,
   "id": "601a3580-0a6d-4180-9c02-5c210014bc75",
   "metadata": {},
   "outputs": [],
   "source": [
    "s2.add(10)"
   ]
  },
  {
   "cell_type": "code",
   "execution_count": 8,
   "id": "9a558c26-d8b0-4513-9ec1-1c1822517607",
   "metadata": {},
   "outputs": [
    {
     "data": {
      "text/plain": [
       "{1, 2, 3, 4, 5, 6, 10}"
      ]
     },
     "execution_count": 8,
     "metadata": {},
     "output_type": "execute_result"
    }
   ],
   "source": [
    "s2"
   ]
  },
  {
   "cell_type": "code",
   "execution_count": 9,
   "id": "37e8a27a-4755-4db4-b3d4-2f5994ea8784",
   "metadata": {},
   "outputs": [],
   "source": [
    "#How do you remove elements from a set in Python\n",
    "s3 = {10,11,12,13,14,15,16,17}"
   ]
  },
  {
   "cell_type": "code",
   "execution_count": 10,
   "id": "1a05218c-4942-491f-bcde-8610453809e7",
   "metadata": {},
   "outputs": [
    {
     "data": {
      "text/plain": [
       "{10, 11, 12, 13, 14, 15, 16, 17}"
      ]
     },
     "execution_count": 10,
     "metadata": {},
     "output_type": "execute_result"
    }
   ],
   "source": [
    "s3"
   ]
  },
  {
   "cell_type": "code",
   "execution_count": null,
   "id": "09c1a737-2ccf-4c8d-9b0a-05bdc11b676d",
   "metadata": {},
   "outputs": [],
   "source": [
    "s3.remove()"
   ]
  }
 ],
 "metadata": {
  "kernelspec": {
   "display_name": "Python 3 (ipykernel)",
   "language": "python",
   "name": "python3"
  },
  "language_info": {
   "codemirror_mode": {
    "name": "ipython",
    "version": 3
   },
   "file_extension": ".py",
   "mimetype": "text/x-python",
   "name": "python",
   "nbconvert_exporter": "python",
   "pygments_lexer": "ipython3",
   "version": "3.10.6"
  }
 },
 "nbformat": 4,
 "nbformat_minor": 5
}
