{
 "cells": [
  {
   "cell_type": "code",
   "execution_count": 1,
   "id": "3d510d53-7f15-4125-bac0-438ee63ad559",
   "metadata": {},
   "outputs": [
    {
     "name": "stdout",
     "output_type": "stream",
     "text": [
      "'\n"
     ]
    }
   ],
   "source": [
    "# In Python, strings ( str ) can be created by enclosing text in single quotes ' , double quotes \" , \n",
    "# and triple quotes ( ''' , \"\"\" ). You can also convert objects of other types into strings using str() .\n",
    "\n",
    "# Example \n",
    "name = \"'\"\n",
    "print(name)"
   ]
  },
  {
   "cell_type": "code",
   "execution_count": 2,
   "id": "e6b66f72-5a9a-42c9-aff2-b5619121651b",
   "metadata": {},
   "outputs": [
    {
     "data": {
      "text/plain": [
       "str"
      ]
     },
     "execution_count": 2,
     "metadata": {},
     "output_type": "execute_result"
    }
   ],
   "source": [
    "x = 'a'\n",
    "type(x)\n",
    "\n",
    "# Here x is a character type variable because in x only \"a\" is stored which is only a character not a string but if in place of \"a\"\n",
    "# if there is written some name or anything like \"coder\" then it is called string type variable ."
   ]
  },
  {
   "cell_type": "code",
   "execution_count": 8,
   "id": "3932a2f0-2935-4dd9-8997-2a35cb065589",
   "metadata": {},
   "outputs": [],
   "source": [
    "x = 'Welcome to Python foundation course'"
   ]
  },
  {
   "cell_type": "code",
   "execution_count": 9,
   "id": "8ca378fa-8872-48b0-bba3-d99a0b7bf707",
   "metadata": {},
   "outputs": [
    {
     "data": {
      "text/plain": [
       "'Welcome to Python foundation course'"
      ]
     },
     "execution_count": 9,
     "metadata": {},
     "output_type": "execute_result"
    }
   ],
   "source": [
    "x"
   ]
  },
  {
   "cell_type": "code",
   "execution_count": 11,
   "id": "f317d416-158a-484c-8f16-0627995277fa",
   "metadata": {},
   "outputs": [
    {
     "data": {
      "text/plain": [
       "18"
      ]
     },
     "execution_count": 11,
     "metadata": {},
     "output_type": "execute_result"
    }
   ],
   "source": [
    "x.find('f')"
   ]
  },
  {
   "cell_type": "code",
   "execution_count": 14,
   "id": "69b50070-6ecc-4e9b-b137-db67a3327586",
   "metadata": {},
   "outputs": [
    {
     "data": {
      "text/plain": [
       "3"
      ]
     },
     "execution_count": 14,
     "metadata": {},
     "output_type": "execute_result"
    }
   ],
   "source": [
    "x.count('n')"
   ]
  },
  {
   "cell_type": "code",
   "execution_count": 17,
   "id": "d5c26174-70a8-4a5f-a6ac-4ceb190d0fcd",
   "metadata": {},
   "outputs": [
    {
     "data": {
      "text/plain": [
       "35"
      ]
     },
     "execution_count": 17,
     "metadata": {},
     "output_type": "execute_result"
    }
   ],
   "source": [
    "len(x)"
   ]
  },
  {
   "cell_type": "code",
   "execution_count": 18,
   "id": "ef408c47-981c-458e-bc8f-5169646908b2",
   "metadata": {},
   "outputs": [
    {
     "name": "stdin",
     "output_type": "stream",
     "text": [
      "Enter string Python\n"
     ]
    }
   ],
   "source": [
    "x = str(input(\"Enter string\"))"
   ]
  },
  {
   "cell_type": "code",
   "execution_count": 19,
   "id": "716bb46e-6149-4244-b27a-ef9fe3ba7c37",
   "metadata": {},
   "outputs": [],
   "source": [
    "word = 'PanaJ1@T//56'"
   ]
  },
  {
   "cell_type": "code",
   "execution_count": 20,
   "id": "2b9e63f2-6e3a-4647-becc-65773e2d6da0",
   "metadata": {},
   "outputs": [
    {
     "data": {
      "text/plain": [
       "'PanaJ1@T//56'"
      ]
     },
     "execution_count": 20,
     "metadata": {},
     "output_type": "execute_result"
    }
   ],
   "source": [
    "word"
   ]
  },
  {
   "cell_type": "code",
   "execution_count": 3,
   "id": "f6ff4cab-2ec0-4f5c-acb6-72e775b3badb",
   "metadata": {},
   "outputs": [
    {
     "name": "stdout",
     "output_type": "stream",
     "text": [
      "Upper case letters: 3\n",
      "Lower case letters: 3\n",
      "Number: 3\n",
      "Special characters: 4\n"
     ]
    }
   ],
   "source": [
    "\n",
    "def Count(str):\n",
    "\tupper, lower, number, special = 0, 0, 0, 0\n",
    "\tfor i in range(len(str)):\n",
    "\t\tif str[i].isupper():\n",
    "\t\t\tupper += 1\n",
    "\t\telif str[i].islower():\n",
    "\t\t\tlower += 1\n",
    "\t\telif str[i].isdigit():\n",
    "\t\t\tnumber += 1\n",
    "\t\telse:\n",
    "\t\t\tspecial += 1\n",
    "\tprint('Upper case letters:', upper)\n",
    "\tprint('Lower case letters:', lower)\n",
    "\tprint('Number:', number)\n",
    "\tprint('Special characters:', special)\n",
    "\n",
    "str = \"#PanaJ1@T//56\"\n",
    "Count(str)\n"
   ]
  },
  {
   "cell_type": "code",
   "execution_count": null,
   "id": "d2ddfc26-18cf-49e1-987d-239c0637c716",
   "metadata": {},
   "outputs": [],
   "source": []
  }
 ],
 "metadata": {
  "kernelspec": {
   "display_name": "Python 3 (ipykernel)",
   "language": "python",
   "name": "python3"
  },
  "language_info": {
   "codemirror_mode": {
    "name": "ipython",
    "version": 3
   },
   "file_extension": ".py",
   "mimetype": "text/x-python",
   "name": "python",
   "nbconvert_exporter": "python",
   "pygments_lexer": "ipython3",
   "version": "3.10.6"
  }
 },
 "nbformat": 4,
 "nbformat_minor": 5
}
