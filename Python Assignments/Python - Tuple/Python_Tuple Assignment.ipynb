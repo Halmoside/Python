{
 "cells": [
  {
   "cell_type": "code",
   "execution_count": 3,
   "id": "a9bcf15e-3106-4f1f-82c1-f8f75a16f707",
   "metadata": {},
   "outputs": [],
   "source": [
    "#What is a tuple in Python\n",
    "# Tuples are used to store multiple items in a single variable. Tuple is one of 4 built-in data types in Python used to \n",
    "# store collections of data, the other 3 are List, Set, and Dictionary, all with different qualities and usage. A tuple is a \n",
    "# collection which is ordered and unchangeable."
   ]
  },
  {
   "cell_type": "code",
   "execution_count": 3,
   "id": "d7a5e57a-0412-46b5-8933-e86581ab2573",
   "metadata": {},
   "outputs": [],
   "source": [
    "#How do you create a tuple in Python\n",
    "t = (1,2,3,4, 34.5, \"haseeb\", True)"
   ]
  },
  {
   "cell_type": "code",
   "execution_count": 4,
   "id": "4100361f-e2a4-4e74-a1fe-4a5efd846f9b",
   "metadata": {},
   "outputs": [
    {
     "data": {
      "text/plain": [
       "(1, 2, 3, 4, 34.5, 'haseeb', True)"
      ]
     },
     "execution_count": 4,
     "metadata": {},
     "output_type": "execute_result"
    }
   ],
   "source": [
    "t"
   ]
  },
  {
   "cell_type": "code",
   "execution_count": 5,
   "id": "327b650c-cfe4-4d1c-bcec-cb0982e03738",
   "metadata": {},
   "outputs": [],
   "source": [
    "#What is the difference between a tuple and a list in Python\n",
    "# The primary difference between tuples and lists is that tuples are immutable as opposed to lists which are mutable.\n",
    "# Therefore, it is possible to change a list but not a tuple. \n",
    "# The contents of a tuple cannot change once they have been created in Python due to the immutability of tuples."
   ]
  },
  {
   "cell_type": "code",
   "execution_count": 6,
   "id": "8ddc1592-eb71-4bcb-8e4c-667365261f6c",
   "metadata": {},
   "outputs": [],
   "source": [
    "#Can a tuple be changed in Python\n",
    "#Tuples are immutable in python.Therefore, it is possible to change a list but not a tuple. \n",
    "# The contents of a tuple cannot change once they have been created in Python due to the immutability of tuples."
   ]
  },
  {
   "cell_type": "code",
   "execution_count": 7,
   "id": "d973143c-d5de-4207-8f9d-52581af50890",
   "metadata": {},
   "outputs": [],
   "source": [
    "#How do you access elements in a tuple\n",
    "t1 = (1,2,3,4, 34.5, \"coder\", False)"
   ]
  },
  {
   "cell_type": "code",
   "execution_count": 8,
   "id": "63157843-1527-4c45-bfd1-944046dc39dd",
   "metadata": {},
   "outputs": [
    {
     "data": {
      "text/plain": [
       "(1, 2, 3, 4, 34.5, 'coder', False)"
      ]
     },
     "execution_count": 8,
     "metadata": {},
     "output_type": "execute_result"
    }
   ],
   "source": [
    "t1"
   ]
  },
  {
   "cell_type": "code",
   "execution_count": 9,
   "id": "0ce13255-220c-4a42-8b25-73631b55e728",
   "metadata": {},
   "outputs": [
    {
     "data": {
      "text/plain": [
       "34.5"
      ]
     },
     "execution_count": 9,
     "metadata": {},
     "output_type": "execute_result"
    }
   ],
   "source": [
    "t1[4]"
   ]
  },
  {
   "cell_type": "code",
   "execution_count": null,
   "id": "4bd6ee45-da60-425d-bc53-6441286462ee",
   "metadata": {},
   "outputs": [],
   "source": [
    "#How do you unpack a tuple in Python\n"
   ]
  }
 ],
 "metadata": {
  "kernelspec": {
   "display_name": "Python 3 (ipykernel)",
   "language": "python",
   "name": "python3"
  },
  "language_info": {
   "codemirror_mode": {
    "name": "ipython",
    "version": 3
   },
   "file_extension": ".py",
   "mimetype": "text/x-python",
   "name": "python",
   "nbconvert_exporter": "python",
   "pygments_lexer": "ipython3",
   "version": "3.10.6"
  }
 },
 "nbformat": 4,
 "nbformat_minor": 5
}
